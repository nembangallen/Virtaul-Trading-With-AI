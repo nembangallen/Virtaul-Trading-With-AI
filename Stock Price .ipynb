{
 "cells": [
  {
   "cell_type": "code",
   "execution_count": 1,
   "metadata": {},
   "outputs": [
    {
     "name": "stderr",
     "output_type": "stream",
     "text": [
      "Using TensorFlow backend.\n",
      "/anaconda3/lib/python3.7/site-packages/tensorflow/python/framework/dtypes.py:526: FutureWarning: Passing (type, 1) or '1type' as a synonym of type is deprecated; in a future version of numpy, it will be understood as (type, (1,)) / '(1,)type'.\n",
      "  _np_qint8 = np.dtype([(\"qint8\", np.int8, 1)])\n",
      "/anaconda3/lib/python3.7/site-packages/tensorflow/python/framework/dtypes.py:527: FutureWarning: Passing (type, 1) or '1type' as a synonym of type is deprecated; in a future version of numpy, it will be understood as (type, (1,)) / '(1,)type'.\n",
      "  _np_quint8 = np.dtype([(\"quint8\", np.uint8, 1)])\n",
      "/anaconda3/lib/python3.7/site-packages/tensorflow/python/framework/dtypes.py:528: FutureWarning: Passing (type, 1) or '1type' as a synonym of type is deprecated; in a future version of numpy, it will be understood as (type, (1,)) / '(1,)type'.\n",
      "  _np_qint16 = np.dtype([(\"qint16\", np.int16, 1)])\n",
      "/anaconda3/lib/python3.7/site-packages/tensorflow/python/framework/dtypes.py:529: FutureWarning: Passing (type, 1) or '1type' as a synonym of type is deprecated; in a future version of numpy, it will be understood as (type, (1,)) / '(1,)type'.\n",
      "  _np_quint16 = np.dtype([(\"quint16\", np.uint16, 1)])\n",
      "/anaconda3/lib/python3.7/site-packages/tensorflow/python/framework/dtypes.py:530: FutureWarning: Passing (type, 1) or '1type' as a synonym of type is deprecated; in a future version of numpy, it will be understood as (type, (1,)) / '(1,)type'.\n",
      "  _np_qint32 = np.dtype([(\"qint32\", np.int32, 1)])\n",
      "/anaconda3/lib/python3.7/site-packages/tensorflow/python/framework/dtypes.py:535: FutureWarning: Passing (type, 1) or '1type' as a synonym of type is deprecated; in a future version of numpy, it will be understood as (type, (1,)) / '(1,)type'.\n",
      "  np_resource = np.dtype([(\"resource\", np.ubyte, 1)])\n"
     ]
    }
   ],
   "source": [
    "import numpy as np\n",
    "import pandas as pd\n",
    "from keras.layers import Dense\n",
    "from keras.layers import Dropout\n",
    "from keras.layers import LSTM\n",
    "from keras.models import Sequential\n",
    "from sklearn.preprocessing import MinMaxScaler\n",
    "import matplotlib.pyplot as plt\n",
    "%matplotlib inline"
   ]
  },
  {
   "cell_type": "code",
   "execution_count": 2,
   "metadata": {},
   "outputs": [],
   "source": [
    "dataset = pd.read_csv('fyp.csv') "
   ]
  },
  {
   "cell_type": "code",
   "execution_count": 3,
   "metadata": {},
   "outputs": [
    {
     "data": {
      "text/plain": [
       "(4935, 7)"
      ]
     },
     "execution_count": 3,
     "metadata": {},
     "output_type": "execute_result"
    }
   ],
   "source": [
    "dataset.shape"
   ]
  },
  {
   "cell_type": "code",
   "execution_count": 4,
   "metadata": {},
   "outputs": [],
   "source": [
    "prices_dataset_train = dataset.iloc[:3948,:]\n",
    "prices_dataset_test = dataset.iloc[3949:,:]"
   ]
  },
  {
   "cell_type": "code",
   "execution_count": 5,
   "metadata": {},
   "outputs": [],
   "source": [
    "trainingset = dataset.iloc[:3948,5:6].values\n",
    "testset = dataset.iloc[3949:,5:6].values"
   ]
  },
  {
   "cell_type": "code",
   "execution_count": 6,
   "metadata": {},
   "outputs": [],
   "source": [
    "# NORMALIZATION"
   ]
  },
  {
   "cell_type": "code",
   "execution_count": 7,
   "metadata": {},
   "outputs": [],
   "source": [
    "min_max_scaler = MinMaxScaler(feature_range=(0,1))\n",
    "scaled_trainingset = min_max_scaler.fit_transform(trainingset)"
   ]
  },
  {
   "cell_type": "code",
   "execution_count": 8,
   "metadata": {},
   "outputs": [],
   "source": [
    "X_train = []\n",
    "y_train = []"
   ]
  },
  {
   "cell_type": "code",
   "execution_count": 9,
   "metadata": {},
   "outputs": [],
   "source": [
    "for i in range(20,3948):\n",
    "    X_train.append(scaled_trainingset[i-20:i,0])\n",
    "    y_train.append(scaled_trainingset[i,0])"
   ]
  },
  {
   "cell_type": "code",
   "execution_count": 10,
   "metadata": {},
   "outputs": [],
   "source": [
    "X_train = np.array(X_train)\n",
    "y_train = np.array(y_train)"
   ]
  },
  {
   "cell_type": "code",
   "execution_count": 11,
   "metadata": {},
   "outputs": [],
   "source": [
    "X_train = np.reshape(X_train, (X_train.shape[0],X_train.shape[1],1))"
   ]
  },
  {
   "cell_type": "code",
   "execution_count": 12,
   "metadata": {},
   "outputs": [],
   "source": [
    "# LSTM MODEL"
   ]
  },
  {
   "cell_type": "code",
   "execution_count": 13,
   "metadata": {},
   "outputs": [],
   "source": [
    "# LSTM architecture"
   ]
  },
  {
   "cell_type": "code",
   "execution_count": 14,
   "metadata": {},
   "outputs": [
    {
     "name": "stdout",
     "output_type": "stream",
     "text": [
      "WARNING:tensorflow:From /anaconda3/lib/python3.7/site-packages/tensorflow/python/ops/resource_variable_ops.py:435: colocate_with (from tensorflow.python.framework.ops) is deprecated and will be removed in a future version.\n",
      "Instructions for updating:\n",
      "Colocations handled automatically by placer.\n"
     ]
    }
   ],
   "source": [
    "model = Sequential()\n",
    "model.add(LSTM(units=100, return_sequences=True, input_shape=(X_train.shape[1],1)))\n",
    "model.add(Dropout(0.5))\n",
    "model.add(LSTM(units=50, return_sequences=True))\n",
    "model.add(Dropout(0.3))\n",
    "# model.add(LSTM(units=50, return_sequences=True))\n",
    "# model.add(Dropout(0.3))\n",
    "model.add(LSTM(units=50))\n",
    "model.add(Dropout(0.3))\n",
    "model.add(Dense(units=1))"
   ]
  },
  {
   "cell_type": "code",
   "execution_count": 15,
   "metadata": {},
   "outputs": [
    {
     "name": "stdout",
     "output_type": "stream",
     "text": [
      "WARNING:tensorflow:From /anaconda3/lib/python3.7/site-packages/tensorflow/python/ops/math_ops.py:3066: to_int32 (from tensorflow.python.ops.math_ops) is deprecated and will be removed in a future version.\n",
      "Instructions for updating:\n",
      "Use tf.cast instead.\n",
      "Epoch 1/50\n",
      "3928/3928 [==============================] - 5s 1ms/step - loss: 0.0080\n",
      "Epoch 2/50\n",
      "3928/3928 [==============================] - 3s 886us/step - loss: 0.0027\n",
      "Epoch 3/50\n",
      "3928/3928 [==============================] - 4s 913us/step - loss: 0.0024\n",
      "Epoch 4/50\n",
      "3928/3928 [==============================] - 4s 893us/step - loss: 0.0020\n",
      "Epoch 5/50\n",
      "3928/3928 [==============================] - 4s 941us/step - loss: 0.0018\n",
      "Epoch 6/50\n",
      "3928/3928 [==============================] - 4s 977us/step - loss: 0.0016\n",
      "Epoch 7/50\n",
      "3928/3928 [==============================] - 3s 862us/step - loss: 0.0016\n",
      "Epoch 8/50\n",
      "3928/3928 [==============================] - 3s 857us/step - loss: 0.0014\n",
      "Epoch 9/50\n",
      "3928/3928 [==============================] - 5s 1ms/step - loss: 0.0014\n",
      "Epoch 10/50\n",
      "3928/3928 [==============================] - 4s 1ms/step - loss: 0.0014\n",
      "Epoch 11/50\n",
      "3928/3928 [==============================] - 4s 1ms/step - loss: 0.0013\n",
      "Epoch 12/50\n",
      "3928/3928 [==============================] - 3s 887us/step - loss: 0.0014\n",
      "Epoch 13/50\n",
      "3928/3928 [==============================] - 4s 900us/step - loss: 0.0012\n",
      "Epoch 14/50\n",
      "3928/3928 [==============================] - 3s 859us/step - loss: 0.0012\n",
      "Epoch 15/50\n",
      "3928/3928 [==============================] - 3s 881us/step - loss: 0.0011\n",
      "Epoch 16/50\n",
      "3928/3928 [==============================] - 4s 902us/step - loss: 0.0012\n",
      "Epoch 17/50\n",
      "3928/3928 [==============================] - 3s 882us/step - loss: 0.0013\n",
      "Epoch 18/50\n",
      "3928/3928 [==============================] - 3s 890us/step - loss: 9.8163e-04\n",
      "Epoch 19/50\n",
      "3928/3928 [==============================] - 4s 1ms/step - loss: 0.0011\n",
      "Epoch 20/50\n",
      "3928/3928 [==============================] - 4s 970us/step - loss: 0.0011\n",
      "Epoch 21/50\n",
      "3928/3928 [==============================] - 4s 1ms/step - loss: 0.0011\n",
      "Epoch 22/50\n",
      "3928/3928 [==============================] - 5s 1ms/step - loss: 9.6726e-04\n",
      "Epoch 23/50\n",
      "3928/3928 [==============================] - 5s 1ms/step - loss: 9.9243e-04\n",
      "Epoch 24/50\n",
      "3928/3928 [==============================] - 4s 1000us/step - loss: 9.6073e-04\n",
      "Epoch 25/50\n",
      "3928/3928 [==============================] - 4s 1ms/step - loss: 0.0011\n",
      "Epoch 26/50\n",
      "3928/3928 [==============================] - 3s 881us/step - loss: 9.6456e-04\n",
      "Epoch 27/50\n",
      "3928/3928 [==============================] - 4s 944us/step - loss: 9.6592e-04\n",
      "Epoch 28/50\n",
      "3928/3928 [==============================] - 4s 1ms/step - loss: 9.2128e-04\n",
      "Epoch 29/50\n",
      "3928/3928 [==============================] - 6s 1ms/step - loss: 0.0011\n",
      "Epoch 30/50\n",
      "3928/3928 [==============================] - 4s 1ms/step - loss: 9.7626e-04\n",
      "Epoch 31/50\n",
      "3928/3928 [==============================] - 5s 1ms/step - loss: 0.0010\n",
      "Epoch 32/50\n",
      "3928/3928 [==============================] - 4s 1ms/step - loss: 9.8495e-04\n",
      "Epoch 33/50\n",
      "3928/3928 [==============================] - 4s 962us/step - loss: 9.1552e-04\n",
      "Epoch 34/50\n",
      "3928/3928 [==============================] - 4s 982us/step - loss: 9.7786e-04\n",
      "Epoch 35/50\n",
      "3928/3928 [==============================] - 4s 909us/step - loss: 9.8871e-04\n",
      "Epoch 36/50\n",
      "3928/3928 [==============================] - 4s 901us/step - loss: 9.9468e-04\n",
      "Epoch 37/50\n",
      "3928/3928 [==============================] - 4s 901us/step - loss: 0.0010\n",
      "Epoch 38/50\n",
      "3928/3928 [==============================] - 4s 917us/step - loss: 9.2294e-04\n",
      "Epoch 39/50\n",
      "3928/3928 [==============================] - 4s 899us/step - loss: 0.0010\n",
      "Epoch 40/50\n",
      "3928/3928 [==============================] - 4s 896us/step - loss: 8.6975e-04\n",
      "Epoch 41/50\n",
      "3928/3928 [==============================] - 4s 891us/step - loss: 9.1536e-04\n",
      "Epoch 42/50\n",
      "3928/3928 [==============================] - 3s 885us/step - loss: 8.8585e-04\n",
      "Epoch 43/50\n",
      "3928/3928 [==============================] - 3s 881us/step - loss: 8.8193e-04\n",
      "Epoch 44/50\n",
      "3928/3928 [==============================] - 4s 892us/step - loss: 9.1815e-04\n",
      "Epoch 45/50\n",
      "3928/3928 [==============================] - 4s 953us/step - loss: 8.6210e-04\n",
      "Epoch 46/50\n",
      "3928/3928 [==============================] - 4s 977us/step - loss: 8.5831e-04\n",
      "Epoch 47/50\n",
      "3928/3928 [==============================] - 4s 930us/step - loss: 0.0011\n",
      "Epoch 48/50\n",
      "3928/3928 [==============================] - 4s 894us/step - loss: 0.0010\n",
      "Epoch 49/50\n",
      "3928/3928 [==============================] - 4s 909us/step - loss: 9.1734e-04\n",
      "Epoch 50/50\n",
      "3928/3928 [==============================] - 4s 897us/step - loss: 9.3411e-04\n"
     ]
    },
    {
     "data": {
      "text/plain": [
       "<keras.callbacks.callbacks.History at 0x11529b320>"
      ]
     },
     "execution_count": 15,
     "metadata": {},
     "output_type": "execute_result"
    }
   ],
   "source": [
    "# Optimizer\n",
    "model.compile(optimizer='adam', loss='mean_squared_error')\n",
    "model.fit(X_train, y_train, epochs=50, batch_size=32)"
   ]
  },
  {
   "cell_type": "code",
   "execution_count": 16,
   "metadata": {},
   "outputs": [],
   "source": [
    "dataset_total = dataset.iloc[:,5:6]"
   ]
  },
  {
   "cell_type": "code",
   "execution_count": 17,
   "metadata": {},
   "outputs": [],
   "source": [
    "inputs = dataset_total[len(dataset_total)-len(prices_dataset_test)-20:].values\n",
    "inputs = inputs.reshape(-1,1)"
   ]
  },
  {
   "cell_type": "code",
   "execution_count": 18,
   "metadata": {},
   "outputs": [],
   "source": [
    "inputs = min_max_scaler.transform(inputs)"
   ]
  },
  {
   "cell_type": "code",
   "execution_count": 19,
   "metadata": {},
   "outputs": [],
   "source": [
    "X_test = []"
   ]
  },
  {
   "cell_type": "code",
   "execution_count": 20,
   "metadata": {},
   "outputs": [],
   "source": [
    "for i in range(20,len(prices_dataset_test)+20):\n",
    "    X_test.append(inputs[i-20:i,0])"
   ]
  },
  {
   "cell_type": "code",
   "execution_count": 21,
   "metadata": {},
   "outputs": [],
   "source": [
    "X_test = np.array(X_test)\n",
    "X_test = np.reshape(X_test, (X_test.shape[0],X_test.shape[1],1))"
   ]
  },
  {
   "cell_type": "code",
   "execution_count": 22,
   "metadata": {},
   "outputs": [],
   "source": [
    "predictions = model.predict(X_test)"
   ]
  },
  {
   "cell_type": "code",
   "execution_count": 23,
   "metadata": {},
   "outputs": [],
   "source": [
    "predictions = min_max_scaler.inverse_transform(predictions)"
   ]
  },
  {
   "cell_type": "code",
   "execution_count": 24,
   "metadata": {},
   "outputs": [
    {
     "data": {
      "image/png": "[encoded data removed]",
      "text/plain": [
       "<Figure size 432x288 with 1 Axes>"
      ]
     },
     "metadata": {
      "needs_background": "light"
     },
     "output_type": "display_data"
    }
   ],
   "source": [
    "# Plotting\n",
    "plt.plot(testset, color='blue', label='Stock Price')\n",
    "plt.plot(predictions, color='green', label='LSTM Predictions')\n",
    "plt.title('Stock Price Prediction with RNN/LSTM')\n",
    "plt.xlabel('Time')\n",
    "plt.ylabel('Price')\n",
    "plt.legend()\n",
    "plt.show()"
   ]
  },
  {
   "cell_type": "code",
   "execution_count": null,
   "metadata": {},
   "outputs": [],
   "source": []
  }
 ],
 "metadata": {
  "kernelspec": {
   "display_name": "Python 3",
   "language": "python",
   "name": "python3"
  },
  "language_info": {
   "codemirror_mode": {
    "name": "ipython",
    "version": 3
   },
   "file_extension": ".py",
   "mimetype": "text/x-python",
   "name": "python",
   "nbconvert_exporter": "python",
   "pygments_lexer": "ipython3",
   "version": "3.7.3"
  }
 },
 "nbformat": 4,
 "nbformat_minor": 2
}
