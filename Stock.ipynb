{
 "cells": [
  {
   "cell_type": "code",
   "execution_count": 1,
   "metadata": {},
   "outputs": [],
   "source": [
    "# Importing Libraries\n",
    "import numpy as np\n",
    "import pandas as pd\n",
    "from tensorflow.keras.layers import Dense\n",
    "from tensorflow.keras.layers import Dropout\n",
    "from tensorflow.keras.layers import LSTM\n",
    "from tensorflow.keras.models import Sequential\n",
    "from sklearn.preprocessing import MinMaxScaler\n",
    "import matplotlib.pyplot as plt\n",
    "%matplotlib inline"
   ]
  },
  {
   "cell_type": "code",
   "execution_count": 2,
   "metadata": {},
   "outputs": [],
   "source": [
    "# Load dataset \n",
    "dataset = pd.read_csv('fyp.csv')"
   ]
  },
  {
   "cell_type": "markdown",
   "metadata": {},
   "source": [
    "## Data Exploration and Analysis"
   ]
  },
  {
   "cell_type": "code",
   "execution_count": 3,
   "metadata": {},
   "outputs": [
    {
     "data": {
      "text/html": [
       "<div>\n",
       "<style scoped>\n",
       "    .dataframe tbody tr th:only-of-type {\n",
       "        vertical-align: middle;\n",
       "    }\n",
       "\n",
       "    .dataframe tbody tr th {\n",
       "        vertical-align: top;\n",
       "    }\n",
       "\n",
       "    .dataframe thead th {\n",
       "        text-align: right;\n",
       "    }\n",
       "</style>\n",
       "<table border=\"1\" class=\"dataframe\">\n",
       "  <thead>\n",
       "    <tr style=\"text-align: right;\">\n",
       "      <th></th>\n",
       "      <th>id</th>\n",
       "      <th>date</th>\n",
       "      <th>open</th>\n",
       "      <th>low</th>\n",
       "      <th>high</th>\n",
       "      <th>close</th>\n",
       "      <th>volume</th>\n",
       "    </tr>\n",
       "  </thead>\n",
       "  <tbody>\n",
       "    <tr>\n",
       "      <th>0</th>\n",
       "      <td>1</td>\n",
       "      <td>883905300</td>\n",
       "      <td>170.09000</td>\n",
       "      <td>170.09000</td>\n",
       "      <td>170.21001</td>\n",
       "      <td>170.21001</td>\n",
       "      <td>12985.0</td>\n",
       "    </tr>\n",
       "    <tr>\n",
       "      <th>1</th>\n",
       "      <td>2</td>\n",
       "      <td>883991700</td>\n",
       "      <td>162.64999</td>\n",
       "      <td>162.64999</td>\n",
       "      <td>170.23000</td>\n",
       "      <td>170.23000</td>\n",
       "      <td>4825.0</td>\n",
       "    </tr>\n",
       "    <tr>\n",
       "      <th>2</th>\n",
       "      <td>3</td>\n",
       "      <td>884078100</td>\n",
       "      <td>162.87000</td>\n",
       "      <td>162.87000</td>\n",
       "      <td>170.39000</td>\n",
       "      <td>170.39000</td>\n",
       "      <td>2170.0</td>\n",
       "    </tr>\n",
       "    <tr>\n",
       "      <th>3</th>\n",
       "      <td>4</td>\n",
       "      <td>884164500</td>\n",
       "      <td>165.47000</td>\n",
       "      <td>165.47000</td>\n",
       "      <td>170.32001</td>\n",
       "      <td>170.32001</td>\n",
       "      <td>13375.0</td>\n",
       "    </tr>\n",
       "    <tr>\n",
       "      <th>4</th>\n",
       "      <td>5</td>\n",
       "      <td>884250900</td>\n",
       "      <td>180.46001</td>\n",
       "      <td>170.69000</td>\n",
       "      <td>180.46001</td>\n",
       "      <td>170.69000</td>\n",
       "      <td>9420.0</td>\n",
       "    </tr>\n",
       "  </tbody>\n",
       "</table>\n",
       "</div>"
      ],
      "text/plain": [
       "   id       date       open        low       high      close   volume\n",
       "0   1  883905300  170.09000  170.09000  170.21001  170.21001  12985.0\n",
       "1   2  883991700  162.64999  162.64999  170.23000  170.23000   4825.0\n",
       "2   3  884078100  162.87000  162.87000  170.39000  170.39000   2170.0\n",
       "3   4  884164500  165.47000  165.47000  170.32001  170.32001  13375.0\n",
       "4   5  884250900  180.46001  170.69000  180.46001  170.69000   9420.0"
      ]
     },
     "execution_count": 3,
     "metadata": {},
     "output_type": "execute_result"
    }
   ],
   "source": [
    "dataset.head()"
   ]
  },
  {
   "cell_type": "code",
   "execution_count": 4,
   "metadata": {},
   "outputs": [
    {
     "name": "stdout",
     "output_type": "stream",
     "text": [
      "<class 'pandas.core.frame.DataFrame'>\n",
      "RangeIndex: 4935 entries, 0 to 4934\n",
      "Data columns (total 7 columns):\n",
      " #   Column  Non-Null Count  Dtype  \n",
      "---  ------  --------------  -----  \n",
      " 0   id      4935 non-null   int64  \n",
      " 1   date    4935 non-null   int64  \n",
      " 2   open    4935 non-null   float64\n",
      " 3   low     4935 non-null   float64\n",
      " 4   high    4935 non-null   float64\n",
      " 5   close   4935 non-null   float64\n",
      " 6   volume  4935 non-null   float64\n",
      "dtypes: float64(5), int64(2)\n",
      "memory usage: 270.0 KB\n"
     ]
    }
   ],
   "source": [
    "dataset.info()"
   ]
  },
  {
   "cell_type": "markdown",
   "metadata": {},
   "source": [
    "###### Since there no missing data(null) so data cleaning is not necessary"
   ]
  },
  {
   "cell_type": "markdown",
   "metadata": {},
   "source": [
    "## Data Preprocessing"
   ]
  },
  {
   "cell_type": "code",
   "execution_count": 5,
   "metadata": {},
   "outputs": [],
   "source": [
    "# Train/Test Split\n",
    "size = int(len(dataset)*0.8)\n",
    "training_set = dataset.iloc[:size, 5:6].values\n",
    "testing_set = dataset.iloc[size:,5:6].values"
   ]
  },
  {
   "cell_type": "code",
   "execution_count": 6,
   "metadata": {},
   "outputs": [],
   "source": [
    "# Feature Scaling\n",
    "# Normalization\n",
    "min_max_scaler = MinMaxScaler(feature_range=(0,1))\n",
    "scaled_trainingset = min_max_scaler.fit_transform(training_set)"
   ]
  },
  {
   "cell_type": "code",
   "execution_count": 7,
   "metadata": {},
   "outputs": [],
   "source": [
    "def create_dataset(dataset, time_step=1):\n",
    "    x_data, y_data = [], []\n",
    "    for i in range(time_step, len(dataset)):\n",
    "        x_data.append(dataset[i-time_step:i,0])\n",
    "        y_data.append(dataset[i,0])\n",
    "    return np.array(x_data), np.array(y_data)"
   ]
  },
  {
   "cell_type": "code",
   "execution_count": 8,
   "metadata": {},
   "outputs": [],
   "source": [
    "time_step = 20\n",
    "X_train, y_train = create_dataset(scaled_trainingset, time_step)"
   ]
  },
  {
   "cell_type": "code",
   "execution_count": 9,
   "metadata": {},
   "outputs": [],
   "source": [
    "X_train = np.reshape(X_train, (X_train.shape[0],X_train.shape[1],1))"
   ]
  },
  {
   "cell_type": "code",
   "execution_count": 10,
   "metadata": {},
   "outputs": [],
   "source": [
    "# LSTM MODEL\n",
    "model = Sequential()\n",
    "model.add(LSTM(units=50, return_sequences=True, input_shape=(X_train.shape[1],1)))\n",
    "# model.add(Dropout(0.5))\n",
    "model.add(LSTM(units=50, return_sequences=True))\n",
    "# model.add(Dropout(0.3))\n",
    "# model.add(LSTM(units=50, return_sequences=True))\n",
    "# model.add(Dropout(0.3))\n",
    "model.add(LSTM(units=50))\n",
    "# model.add(Dropout(0.3))\n",
    "model.add(Dense(units=1))"
   ]
  },
  {
   "cell_type": "code",
   "execution_count": 11,
   "metadata": {},
   "outputs": [
    {
     "name": "stdout",
     "output_type": "stream",
     "text": [
      "Epoch 1/100\n",
      "123/123 [==============================] - 3s 25ms/step - loss: 0.0042\n",
      "Epoch 2/100\n",
      "123/123 [==============================] - 3s 23ms/step - loss: 6.2303e-04\n",
      "Epoch 3/100\n",
      "123/123 [==============================] - 3s 21ms/step - loss: 5.4976e-04\n",
      "Epoch 4/100\n",
      "123/123 [==============================] - 3s 21ms/step - loss: 5.5533e-04\n",
      "Epoch 5/100\n",
      "123/123 [==============================] - 3s 21ms/step - loss: 5.0291e-04\n",
      "Epoch 6/100\n",
      "123/123 [==============================] - 3s 21ms/step - loss: 5.0596e-04\n",
      "Epoch 7/100\n",
      "123/123 [==============================] - 3s 22ms/step - loss: 3.0579e-04\n",
      "Epoch 8/100\n",
      "123/123 [==============================] - 3s 22ms/step - loss: 3.0626e-04\n",
      "Epoch 9/100\n",
      "123/123 [==============================] - 3s 22ms/step - loss: 2.4740e-04\n",
      "Epoch 10/100\n",
      "123/123 [==============================] - 3s 23ms/step - loss: 2.2209e-04\n",
      "Epoch 11/100\n",
      "123/123 [==============================] - 3s 24ms/step - loss: 2.5133e-04\n",
      "Epoch 12/100\n",
      "123/123 [==============================] - 3s 23ms/step - loss: 2.2109e-04\n",
      "Epoch 13/100\n",
      "123/123 [==============================] - 3s 23ms/step - loss: 1.9296e-04\n",
      "Epoch 14/100\n",
      "123/123 [==============================] - 3s 24ms/step - loss: 1.8414e-04\n",
      "Epoch 15/100\n",
      "123/123 [==============================] - 3s 24ms/step - loss: 1.8334e-04\n",
      "Epoch 16/100\n",
      "123/123 [==============================] - 3s 23ms/step - loss: 1.6436e-04\n",
      "Epoch 17/100\n",
      "123/123 [==============================] - 3s 24ms/step - loss: 1.6471e-04\n",
      "Epoch 18/100\n",
      "123/123 [==============================] - 3s 24ms/step - loss: 2.1408e-04\n",
      "Epoch 19/100\n",
      "123/123 [==============================] - 3s 24ms/step - loss: 1.6520e-04\n",
      "Epoch 20/100\n",
      "123/123 [==============================] - 3s 24ms/step - loss: 1.4240e-04\n",
      "Epoch 21/100\n",
      "123/123 [==============================] - 3s 25ms/step - loss: 1.5275e-04\n",
      "Epoch 22/100\n",
      "123/123 [==============================] - 3s 26ms/step - loss: 1.3546e-04\n",
      "Epoch 23/100\n",
      "123/123 [==============================] - 3s 25ms/step - loss: 1.1793e-04\n",
      "Epoch 24/100\n",
      "123/123 [==============================] - 3s 25ms/step - loss: 1.1231e-04\n",
      "Epoch 25/100\n",
      "123/123 [==============================] - 3s 25ms/step - loss: 1.0641e-04\n",
      "Epoch 26/100\n",
      "123/123 [==============================] - 3s 25ms/step - loss: 9.5904e-05\n",
      "Epoch 27/100\n",
      "123/123 [==============================] - 3s 26ms/step - loss: 1.0716e-04\n",
      "Epoch 28/100\n",
      "123/123 [==============================] - 3s 26ms/step - loss: 1.0484e-04\n",
      "Epoch 29/100\n",
      "123/123 [==============================] - 3s 26ms/step - loss: 8.8761e-05\n",
      "Epoch 30/100\n",
      "123/123 [==============================] - 3s 28ms/step - loss: 7.8355e-05\n",
      "Epoch 31/100\n",
      "123/123 [==============================] - 3s 26ms/step - loss: 1.1089e-04\n",
      "Epoch 32/100\n",
      "123/123 [==============================] - 3s 25ms/step - loss: 7.7927e-05\n",
      "Epoch 33/100\n",
      "123/123 [==============================] - 3s 25ms/step - loss: 7.9396e-05\n",
      "Epoch 34/100\n",
      "123/123 [==============================] - 3s 25ms/step - loss: 9.4317e-05\n",
      "Epoch 35/100\n",
      "123/123 [==============================] - 3s 25ms/step - loss: 7.9805e-05\n",
      "Epoch 36/100\n",
      "123/123 [==============================] - 3s 24ms/step - loss: 7.7017e-05\n",
      "Epoch 37/100\n",
      "123/123 [==============================] - 3s 24ms/step - loss: 7.6427e-05\n",
      "Epoch 38/100\n",
      "123/123 [==============================] - 3s 24ms/step - loss: 6.0454e-05\n",
      "Epoch 39/100\n",
      "123/123 [==============================] - 3s 24ms/step - loss: 6.4484e-05\n",
      "Epoch 40/100\n",
      "123/123 [==============================] - 3s 24ms/step - loss: 6.0084e-05\n",
      "Epoch 41/100\n",
      "123/123 [==============================] - 3s 25ms/step - loss: 7.7437e-05\n",
      "Epoch 42/100\n",
      "123/123 [==============================] - 4s 29ms/step - loss: 1.2540e-04\n",
      "Epoch 43/100\n",
      "123/123 [==============================] - 3s 26ms/step - loss: 7.9546e-05\n",
      "Epoch 44/100\n",
      "123/123 [==============================] - 3s 26ms/step - loss: 7.0191e-05\n",
      "Epoch 45/100\n",
      "123/123 [==============================] - 3s 26ms/step - loss: 6.0841e-05\n",
      "Epoch 46/100\n",
      "123/123 [==============================] - 3s 28ms/step - loss: 5.8279e-05\n",
      "Epoch 47/100\n",
      "123/123 [==============================] - 5s 38ms/step - loss: 6.0772e-05\n",
      "Epoch 48/100\n",
      "123/123 [==============================] - 4s 29ms/step - loss: 5.6435e-05\n",
      "Epoch 49/100\n",
      "123/123 [==============================] - 3s 26ms/step - loss: 6.8751e-05\n",
      "Epoch 50/100\n",
      "123/123 [==============================] - 3s 24ms/step - loss: 5.7059e-05\n",
      "Epoch 51/100\n",
      "123/123 [==============================] - 3s 25ms/step - loss: 5.9081e-05\n",
      "Epoch 52/100\n",
      "123/123 [==============================] - 3s 25ms/step - loss: 8.9139e-05\n",
      "Epoch 53/100\n",
      "123/123 [==============================] - 3s 26ms/step - loss: 6.3490e-05\n",
      "Epoch 54/100\n",
      "123/123 [==============================] - 4s 35ms/step - loss: 6.8345e-05\n",
      "Epoch 55/100\n",
      "123/123 [==============================] - 4s 34ms/step - loss: 6.8876e-05\n",
      "Epoch 56/100\n",
      "123/123 [==============================] - 4s 29ms/step - loss: 7.1132e-05\n",
      "Epoch 57/100\n",
      "123/123 [==============================] - 4s 29ms/step - loss: 5.8252e-05\n",
      "Epoch 58/100\n",
      "123/123 [==============================] - 3s 26ms/step - loss: 6.0959e-05\n",
      "Epoch 59/100\n",
      "123/123 [==============================] - 3s 27ms/step - loss: 5.7004e-05\n",
      "Epoch 60/100\n",
      "123/123 [==============================] - 3s 27ms/step - loss: 6.8555e-05\n",
      "Epoch 61/100\n",
      "123/123 [==============================] - 3s 26ms/step - loss: 5.4351e-05\n",
      "Epoch 62/100\n",
      "123/123 [==============================] - 4s 30ms/step - loss: 6.3181e-05\n",
      "Epoch 63/100\n",
      "123/123 [==============================] - 3s 26ms/step - loss: 6.8974e-05\n",
      "Epoch 64/100\n",
      "123/123 [==============================] - 3s 27ms/step - loss: 5.6610e-05\n",
      "Epoch 65/100\n",
      "123/123 [==============================] - 3s 26ms/step - loss: 5.6036e-05\n",
      "Epoch 66/100\n",
      "123/123 [==============================] - 3s 27ms/step - loss: 6.3347e-05\n",
      "Epoch 67/100\n",
      "123/123 [==============================] - 3s 26ms/step - loss: 6.6921e-05\n",
      "Epoch 68/100\n",
      "123/123 [==============================] - 3s 28ms/step - loss: 6.2958e-05\n",
      "Epoch 69/100\n",
      "123/123 [==============================] - 4s 30ms/step - loss: 7.1075e-05\n",
      "Epoch 70/100\n",
      "123/123 [==============================] - 4s 31ms/step - loss: 5.6900e-05\n",
      "Epoch 71/100\n",
      "123/123 [==============================] - 4s 33ms/step - loss: 6.8870e-05\n",
      "Epoch 72/100\n",
      "123/123 [==============================] - 3s 27ms/step - loss: 5.7914e-05\n",
      "Epoch 73/100\n",
      "123/123 [==============================] - 3s 26ms/step - loss: 5.2920e-05\n",
      "Epoch 74/100\n",
      "123/123 [==============================] - 3s 26ms/step - loss: 5.4221e-05\n",
      "Epoch 75/100\n",
      "123/123 [==============================] - 3s 25ms/step - loss: 5.9662e-05\n",
      "Epoch 76/100\n",
      "123/123 [==============================] - 3s 26ms/step - loss: 5.6910e-05\n",
      "Epoch 77/100\n",
      "123/123 [==============================] - 3s 26ms/step - loss: 6.0112e-05\n",
      "Epoch 78/100\n",
      "123/123 [==============================] - 3s 26ms/step - loss: 5.4835e-05\n",
      "Epoch 79/100\n",
      "123/123 [==============================] - 3s 28ms/step - loss: 5.7121e-05\n",
      "Epoch 80/100\n",
      "123/123 [==============================] - 3s 25ms/step - loss: 6.6779e-05\n",
      "Epoch 81/100\n",
      "123/123 [==============================] - 3s 27ms/step - loss: 6.0929e-05\n",
      "Epoch 82/100\n",
      "123/123 [==============================] - 4s 30ms/step - loss: 5.8974e-05\n",
      "Epoch 83/100\n",
      "123/123 [==============================] - 3s 28ms/step - loss: 6.4771e-05\n",
      "Epoch 84/100\n",
      "123/123 [==============================] - 3s 26ms/step - loss: 5.8575e-05\n",
      "Epoch 85/100\n",
      "123/123 [==============================] - 3s 25ms/step - loss: 5.5633e-05\n",
      "Epoch 86/100\n",
      "123/123 [==============================] - 4s 29ms/step - loss: 5.6757e-05\n",
      "Epoch 87/100\n",
      "123/123 [==============================] - 3s 28ms/step - loss: 5.4162e-05\n",
      "Epoch 88/100\n",
      "123/123 [==============================] - 3s 27ms/step - loss: 5.6509e-05\n",
      "Epoch 89/100\n",
      "123/123 [==============================] - 4s 29ms/step - loss: 5.9343e-05\n",
      "Epoch 90/100\n",
      "123/123 [==============================] - 4s 30ms/step - loss: 5.7811e-05\n",
      "Epoch 91/100\n",
      "123/123 [==============================] - 5s 38ms/step - loss: 5.9605e-05\n",
      "Epoch 92/100\n",
      "123/123 [==============================] - 3s 26ms/step - loss: 5.3996e-05\n",
      "Epoch 93/100\n",
      "123/123 [==============================] - 3s 25ms/step - loss: 7.6077e-05\n",
      "Epoch 94/100\n"
     ]
    },
    {
     "name": "stdout",
     "output_type": "stream",
     "text": [
      "123/123 [==============================] - 3s 26ms/step - loss: 5.6204e-05\n",
      "Epoch 95/100\n",
      "123/123 [==============================] - 3s 25ms/step - loss: 4.8531e-05\n",
      "Epoch 96/100\n",
      "123/123 [==============================] - 4s 31ms/step - loss: 4.9971e-05\n",
      "Epoch 97/100\n",
      "123/123 [==============================] - 4s 33ms/step - loss: 5.3713e-05\n",
      "Epoch 98/100\n",
      "123/123 [==============================] - 4s 29ms/step - loss: 5.4997e-05\n",
      "Epoch 99/100\n",
      "123/123 [==============================] - 3s 26ms/step - loss: 5.3205e-05\n",
      "Epoch 100/100\n",
      "123/123 [==============================] - 3s 25ms/step - loss: 5.3363e-05\n"
     ]
    },
    {
     "data": {
      "text/plain": [
       "<tensorflow.python.keras.callbacks.History at 0x13c02e710>"
      ]
     },
     "execution_count": 11,
     "metadata": {},
     "output_type": "execute_result"
    }
   ],
   "source": [
    "# Optimizer\n",
    "model.compile(optimizer='adam', loss='mean_squared_error')\n",
    "model.fit(X_train, y_train, epochs=100, batch_size=32)"
   ]
  },
  {
   "cell_type": "code",
   "execution_count": 19,
   "metadata": {},
   "outputs": [],
   "source": [
    "inputs = dataset.iloc[len(dataset)-len(testing_set)-20:,5:6].values"
   ]
  },
  {
   "cell_type": "code",
   "execution_count": 20,
   "metadata": {},
   "outputs": [],
   "source": [
    "inputs = inputs.reshape(-1,1)\n",
    "\n",
    "inputs = min_max_scaler.transform(inputs)"
   ]
  },
  {
   "cell_type": "code",
   "execution_count": 21,
   "metadata": {},
   "outputs": [],
   "source": [
    "X_test = []\n",
    "\n",
    "for i in range(time_step, len(testing_set)+time_step):\n",
    "    X_test.append(inputs[i-time_step:i,0])"
   ]
  },
  {
   "cell_type": "code",
   "execution_count": 22,
   "metadata": {},
   "outputs": [],
   "source": [
    "X_test = np.array(X_test)\n",
    "X_test = np.reshape(X_test, (X_test.shape[0], X_test.shape[1], 1))"
   ]
  },
  {
   "cell_type": "code",
   "execution_count": 23,
   "metadata": {},
   "outputs": [],
   "source": [
    "predictions = model.predict(X_test)"
   ]
  },
  {
   "cell_type": "code",
   "execution_count": 24,
   "metadata": {},
   "outputs": [],
   "source": [
    "predictions = min_max_scaler.inverse_transform(predictions)"
   ]
  },
  {
   "cell_type": "code",
   "execution_count": 25,
   "metadata": {},
   "outputs": [
    {
     "data": {
      "image/png": "[encoded data removed]",
      "text/plain": [
       "<Figure size 432x288 with 1 Axes>"
      ]
     },
     "metadata": {
      "needs_background": "light"
     },
     "output_type": "display_data"
    }
   ],
   "source": [
    "# Plotting\n",
    "plt.plot(testing_set, color='blue', label='Stock Price')\n",
    "plt.plot(predictions, color='green', label='LSTM Predictions')\n",
    "plt.title('Stock Price Prediction with RNN/LSTM')\n",
    "plt.xlabel('Time')\n",
    "plt.ylabel('Price')\n",
    "plt.legend()\n",
    "plt.show()"
   ]
  },
  {
   "cell_type": "code",
   "execution_count": 26,
   "metadata": {},
   "outputs": [
    {
     "data": {
      "text/plain": [
       "987"
      ]
     },
     "execution_count": 26,
     "metadata": {},
     "output_type": "execute_result"
    }
   ],
   "source": [
    "len(testing_set)"
   ]
  },
  {
   "cell_type": "code",
   "execution_count": null,
   "metadata": {},
   "outputs": [],
   "source": []
  }
 ],
 "metadata": {
  "kernelspec": {
   "display_name": "Python 3.7.7 64-bit ('tensvenv': conda)",
   "language": "python",
   "name": "python37764bittensvenvconda52fd1831b3f141099a2e1e2add9df444"
  },
  "language_info": {
   "codemirror_mode": {
    "name": "ipython",
    "version": 3
   },
   "file_extension": ".py",
   "mimetype": "text/x-python",
   "name": "python",
   "nbconvert_exporter": "python",
   "pygments_lexer": "ipython3",
   "version": "3.7.7"
  }
 },
 "nbformat": 4,
 "nbformat_minor": 4
}
