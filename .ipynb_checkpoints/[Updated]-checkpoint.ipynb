{
 "cells": [
  {
   "cell_type": "markdown",
   "metadata": {},
   "source": [
    "## Imported Libraries"
   ]
  },
  {
   "cell_type": "code",
   "execution_count": 47,
   "metadata": {},
   "outputs": [],
   "source": [
    "# Linear Algebra\n",
    "import numpy as np\n",
    "\n",
    "# Data Processing\n",
    "import pandas as pd\n",
    "\n",
    "# Data Visualization\n",
    "import matplotlib.pyplot as plt\n",
    "%matplotlib inline\n",
    "\n",
    "# For LSTM Architecture\n",
    "from tensorflow.keras.models import Sequential\n",
    "from tensorflow.keras.layers import Dense\n",
    "from tensorflow.keras.layers import LSTM"
   ]
  },
  {
   "cell_type": "code",
   "execution_count": 2,
   "metadata": {},
   "outputs": [],
   "source": [
    "# Load the data\n",
    "dataset = pd.read_csv('fyp.csv')"
   ]
  },
  {
   "cell_type": "markdown",
   "metadata": {},
   "source": [
    "## Data Exploration/Analysis"
   ]
  },
  {
   "cell_type": "code",
   "execution_count": 3,
   "metadata": {},
   "outputs": [
    {
     "data": {
      "text/html": [
       "<div>\n",
       "<style scoped>\n",
       "    .dataframe tbody tr th:only-of-type {\n",
       "        vertical-align: middle;\n",
       "    }\n",
       "\n",
       "    .dataframe tbody tr th {\n",
       "        vertical-align: top;\n",
       "    }\n",
       "\n",
       "    .dataframe thead th {\n",
       "        text-align: right;\n",
       "    }\n",
       "</style>\n",
       "<table border=\"1\" class=\"dataframe\">\n",
       "  <thead>\n",
       "    <tr style=\"text-align: right;\">\n",
       "      <th></th>\n",
       "      <th>id</th>\n",
       "      <th>date</th>\n",
       "      <th>open</th>\n",
       "      <th>low</th>\n",
       "      <th>high</th>\n",
       "      <th>close</th>\n",
       "      <th>volume</th>\n",
       "    </tr>\n",
       "  </thead>\n",
       "  <tbody>\n",
       "    <tr>\n",
       "      <th>0</th>\n",
       "      <td>1</td>\n",
       "      <td>883905300</td>\n",
       "      <td>170.09000</td>\n",
       "      <td>170.09000</td>\n",
       "      <td>170.21001</td>\n",
       "      <td>170.21001</td>\n",
       "      <td>12985.0</td>\n",
       "    </tr>\n",
       "    <tr>\n",
       "      <th>1</th>\n",
       "      <td>2</td>\n",
       "      <td>883991700</td>\n",
       "      <td>162.64999</td>\n",
       "      <td>162.64999</td>\n",
       "      <td>170.23000</td>\n",
       "      <td>170.23000</td>\n",
       "      <td>4825.0</td>\n",
       "    </tr>\n",
       "    <tr>\n",
       "      <th>2</th>\n",
       "      <td>3</td>\n",
       "      <td>884078100</td>\n",
       "      <td>162.87000</td>\n",
       "      <td>162.87000</td>\n",
       "      <td>170.39000</td>\n",
       "      <td>170.39000</td>\n",
       "      <td>2170.0</td>\n",
       "    </tr>\n",
       "    <tr>\n",
       "      <th>3</th>\n",
       "      <td>4</td>\n",
       "      <td>884164500</td>\n",
       "      <td>165.47000</td>\n",
       "      <td>165.47000</td>\n",
       "      <td>170.32001</td>\n",
       "      <td>170.32001</td>\n",
       "      <td>13375.0</td>\n",
       "    </tr>\n",
       "    <tr>\n",
       "      <th>4</th>\n",
       "      <td>5</td>\n",
       "      <td>884250900</td>\n",
       "      <td>180.46001</td>\n",
       "      <td>170.69000</td>\n",
       "      <td>180.46001</td>\n",
       "      <td>170.69000</td>\n",
       "      <td>9420.0</td>\n",
       "    </tr>\n",
       "  </tbody>\n",
       "</table>\n",
       "</div>"
      ],
      "text/plain": [
       "   id       date       open        low       high      close   volume\n",
       "0   1  883905300  170.09000  170.09000  170.21001  170.21001  12985.0\n",
       "1   2  883991700  162.64999  162.64999  170.23000  170.23000   4825.0\n",
       "2   3  884078100  162.87000  162.87000  170.39000  170.39000   2170.0\n",
       "3   4  884164500  165.47000  165.47000  170.32001  170.32001  13375.0\n",
       "4   5  884250900  180.46001  170.69000  180.46001  170.69000   9420.0"
      ]
     },
     "execution_count": 3,
     "metadata": {},
     "output_type": "execute_result"
    }
   ],
   "source": [
    "dataset.head()"
   ]
  },
  {
   "cell_type": "code",
   "execution_count": 4,
   "metadata": {},
   "outputs": [
    {
     "data": {
      "text/html": [
       "<div>\n",
       "<style scoped>\n",
       "    .dataframe tbody tr th:only-of-type {\n",
       "        vertical-align: middle;\n",
       "    }\n",
       "\n",
       "    .dataframe tbody tr th {\n",
       "        vertical-align: top;\n",
       "    }\n",
       "\n",
       "    .dataframe thead th {\n",
       "        text-align: right;\n",
       "    }\n",
       "</style>\n",
       "<table border=\"1\" class=\"dataframe\">\n",
       "  <thead>\n",
       "    <tr style=\"text-align: right;\">\n",
       "      <th></th>\n",
       "      <th>id</th>\n",
       "      <th>date</th>\n",
       "      <th>open</th>\n",
       "      <th>low</th>\n",
       "      <th>high</th>\n",
       "      <th>close</th>\n",
       "      <th>volume</th>\n",
       "    </tr>\n",
       "  </thead>\n",
       "  <tbody>\n",
       "    <tr>\n",
       "      <th>4930</th>\n",
       "      <td>4931</td>\n",
       "      <td>1584440036</td>\n",
       "      <td>1316.40002</td>\n",
       "      <td>1266.43994</td>\n",
       "      <td>1321.50</td>\n",
       "      <td>1272.06995</td>\n",
       "      <td>1.465185e+09</td>\n",
       "    </tr>\n",
       "    <tr>\n",
       "      <th>4931</th>\n",
       "      <td>4932</td>\n",
       "      <td>1584526445</td>\n",
       "      <td>1272.07000</td>\n",
       "      <td>1233.97000</td>\n",
       "      <td>1287.38</td>\n",
       "      <td>1255.80000</td>\n",
       "      <td>1.184417e+09</td>\n",
       "    </tr>\n",
       "    <tr>\n",
       "      <th>4932</th>\n",
       "      <td>4933</td>\n",
       "      <td>1584612845</td>\n",
       "      <td>1255.80000</td>\n",
       "      <td>1222.56000</td>\n",
       "      <td>1279.32</td>\n",
       "      <td>1269.31000</td>\n",
       "      <td>1.903142e+09</td>\n",
       "    </tr>\n",
       "    <tr>\n",
       "      <th>4933</th>\n",
       "      <td>4934</td>\n",
       "      <td>1584872046</td>\n",
       "      <td>1269.31000</td>\n",
       "      <td>1246.20000</td>\n",
       "      <td>1275.42</td>\n",
       "      <td>1251.46000</td>\n",
       "      <td>1.946430e+08</td>\n",
       "    </tr>\n",
       "    <tr>\n",
       "      <th>4934</th>\n",
       "      <td>4935</td>\n",
       "      <td>1589278500</td>\n",
       "      <td>1250.85559</td>\n",
       "      <td>1226.16000</td>\n",
       "      <td>1251.40</td>\n",
       "      <td>1226.15900</td>\n",
       "      <td>9.957020e+07</td>\n",
       "    </tr>\n",
       "  </tbody>\n",
       "</table>\n",
       "</div>"
      ],
      "text/plain": [
       "        id        date        open         low     high       close  \\\n",
       "4930  4931  1584440036  1316.40002  1266.43994  1321.50  1272.06995   \n",
       "4931  4932  1584526445  1272.07000  1233.97000  1287.38  1255.80000   \n",
       "4932  4933  1584612845  1255.80000  1222.56000  1279.32  1269.31000   \n",
       "4933  4934  1584872046  1269.31000  1246.20000  1275.42  1251.46000   \n",
       "4934  4935  1589278500  1250.85559  1226.16000  1251.40  1226.15900   \n",
       "\n",
       "            volume  \n",
       "4930  1.465185e+09  \n",
       "4931  1.184417e+09  \n",
       "4932  1.903142e+09  \n",
       "4933  1.946430e+08  \n",
       "4934  9.957020e+07  "
      ]
     },
     "execution_count": 4,
     "metadata": {},
     "output_type": "execute_result"
    }
   ],
   "source": [
    "dataset.tail()"
   ]
  },
  {
   "cell_type": "code",
   "execution_count": 5,
   "metadata": {},
   "outputs": [
    {
     "data": {
      "text/plain": [
       "(4935, 7)"
      ]
     },
     "execution_count": 5,
     "metadata": {},
     "output_type": "execute_result"
    }
   ],
   "source": [
    "dataset.shape"
   ]
  },
  {
   "cell_type": "code",
   "execution_count": 6,
   "metadata": {},
   "outputs": [
    {
     "data": {
      "text/html": [
       "<div>\n",
       "<style scoped>\n",
       "    .dataframe tbody tr th:only-of-type {\n",
       "        vertical-align: middle;\n",
       "    }\n",
       "\n",
       "    .dataframe tbody tr th {\n",
       "        vertical-align: top;\n",
       "    }\n",
       "\n",
       "    .dataframe thead th {\n",
       "        text-align: right;\n",
       "    }\n",
       "</style>\n",
       "<table border=\"1\" class=\"dataframe\">\n",
       "  <thead>\n",
       "    <tr style=\"text-align: right;\">\n",
       "      <th></th>\n",
       "      <th>id</th>\n",
       "      <th>date</th>\n",
       "      <th>open</th>\n",
       "      <th>low</th>\n",
       "      <th>high</th>\n",
       "      <th>close</th>\n",
       "      <th>volume</th>\n",
       "    </tr>\n",
       "  </thead>\n",
       "  <tbody>\n",
       "    <tr>\n",
       "      <th>count</th>\n",
       "      <td>4935.000000</td>\n",
       "      <td>4.935000e+03</td>\n",
       "      <td>4935.000000</td>\n",
       "      <td>4935.000000</td>\n",
       "      <td>4935.000000</td>\n",
       "      <td>4935.000000</td>\n",
       "      <td>4.935000e+03</td>\n",
       "    </tr>\n",
       "    <tr>\n",
       "      <th>mean</th>\n",
       "      <td>2468.000000</td>\n",
       "      <td>1.229119e+09</td>\n",
       "      <td>625.601454</td>\n",
       "      <td>621.878734</td>\n",
       "      <td>629.585177</td>\n",
       "      <td>625.739177</td>\n",
       "      <td>9.258507e+07</td>\n",
       "    </tr>\n",
       "    <tr>\n",
       "      <th>std</th>\n",
       "      <td>1424.756119</td>\n",
       "      <td>2.031911e+08</td>\n",
       "      <td>446.232494</td>\n",
       "      <td>443.862340</td>\n",
       "      <td>448.741565</td>\n",
       "      <td>446.160783</td>\n",
       "      <td>2.889004e+08</td>\n",
       "    </tr>\n",
       "    <tr>\n",
       "      <th>min</th>\n",
       "      <td>1.000000</td>\n",
       "      <td>8.839053e+08</td>\n",
       "      <td>146.929990</td>\n",
       "      <td>146.929990</td>\n",
       "      <td>156.429990</td>\n",
       "      <td>156.429990</td>\n",
       "      <td>5.000000e+00</td>\n",
       "    </tr>\n",
       "    <tr>\n",
       "      <th>25%</th>\n",
       "      <td>1234.500000</td>\n",
       "      <td>1.054070e+09</td>\n",
       "      <td>275.645005</td>\n",
       "      <td>274.625000</td>\n",
       "      <td>279.849990</td>\n",
       "      <td>277.834995</td>\n",
       "      <td>1.056800e+04</td>\n",
       "    </tr>\n",
       "    <tr>\n",
       "      <th>50%</th>\n",
       "      <td>2468.000000</td>\n",
       "      <td>1.220347e+09</td>\n",
       "      <td>433.929990</td>\n",
       "      <td>430.769990</td>\n",
       "      <td>435.489990</td>\n",
       "      <td>432.390010</td>\n",
       "      <td>2.280400e+04</td>\n",
       "    </tr>\n",
       "    <tr>\n",
       "      <th>75%</th>\n",
       "      <td>3701.500000</td>\n",
       "      <td>1.398374e+09</td>\n",
       "      <td>949.984985</td>\n",
       "      <td>947.725005</td>\n",
       "      <td>951.755005</td>\n",
       "      <td>949.325010</td>\n",
       "      <td>2.387848e+06</td>\n",
       "    </tr>\n",
       "    <tr>\n",
       "      <th>max</th>\n",
       "      <td>4935.000000</td>\n",
       "      <td>1.589278e+09</td>\n",
       "      <td>1881.449950</td>\n",
       "      <td>1866.280030</td>\n",
       "      <td>1888.359990</td>\n",
       "      <td>1881.449950</td>\n",
       "      <td>4.847437e+09</td>\n",
       "    </tr>\n",
       "  </tbody>\n",
       "</table>\n",
       "</div>"
      ],
      "text/plain": [
       "                id          date         open          low         high  \\\n",
       "count  4935.000000  4.935000e+03  4935.000000  4935.000000  4935.000000   \n",
       "mean   2468.000000  1.229119e+09   625.601454   621.878734   629.585177   \n",
       "std    1424.756119  2.031911e+08   446.232494   443.862340   448.741565   \n",
       "min       1.000000  8.839053e+08   146.929990   146.929990   156.429990   \n",
       "25%    1234.500000  1.054070e+09   275.645005   274.625000   279.849990   \n",
       "50%    2468.000000  1.220347e+09   433.929990   430.769990   435.489990   \n",
       "75%    3701.500000  1.398374e+09   949.984985   947.725005   951.755005   \n",
       "max    4935.000000  1.589278e+09  1881.449950  1866.280030  1888.359990   \n",
       "\n",
       "             close        volume  \n",
       "count  4935.000000  4.935000e+03  \n",
       "mean    625.739177  9.258507e+07  \n",
       "std     446.160783  2.889004e+08  \n",
       "min     156.429990  5.000000e+00  \n",
       "25%     277.834995  1.056800e+04  \n",
       "50%     432.390010  2.280400e+04  \n",
       "75%     949.325010  2.387848e+06  \n",
       "max    1881.449950  4.847437e+09  "
      ]
     },
     "execution_count": 6,
     "metadata": {},
     "output_type": "execute_result"
    }
   ],
   "source": [
    "# Let's check missing data\n",
    "dataset.describe()"
   ]
  },
  {
   "cell_type": "code",
   "execution_count": 7,
   "metadata": {},
   "outputs": [
    {
     "data": {
      "text/plain": [
       "id        4935\n",
       "date      4935\n",
       "open      4935\n",
       "low       4935\n",
       "high      4935\n",
       "close     4935\n",
       "volume    4935\n",
       "dtype: int64"
      ]
     },
     "execution_count": 7,
     "metadata": {},
     "output_type": "execute_result"
    }
   ],
   "source": [
    "dataset.count(0)"
   ]
  },
  {
   "cell_type": "markdown",
   "metadata": {},
   "source": [
    "## Pre-processing Data"
   ]
  },
  {
   "cell_type": "markdown",
   "metadata": {},
   "source": [
    "###### Since there no missing data(null) so data cleaning is not necessary"
   ]
  },
  {
   "cell_type": "code",
   "execution_count": 8,
   "metadata": {},
   "outputs": [],
   "source": [
    "train_num = int(len(dataset)*0.8)\n",
    "training_data = dataset.iloc[:train_num,5:6].values\n",
    "testing_data = dataset.iloc[train_num:,5:6].values"
   ]
  },
  {
   "cell_type": "code",
   "execution_count": 51,
   "metadata": {},
   "outputs": [],
   "source": [
    "# Normalization\n",
    "from sklearn.preprocessing import MinMaxScaler\n",
    "min_max_scaler = MinMaxScaler(feature_range=(0,1))\n",
    "scaled_training_data = min_max_scaler.fit_transform(training_data)\n",
    "scaled_testing_data = min_max_scaler.fit_transform(testing_data)"
   ]
  },
  {
   "cell_type": "code",
   "execution_count": 10,
   "metadata": {},
   "outputs": [
    {
     "name": "stdout",
     "output_type": "stream",
     "text": [
      "Scaled Data: \n",
      "\n",
      "[[0.01292709]\n",
      " [0.01294584]\n",
      " [0.01309594]\n",
      " ...\n",
      " [0.99053446]\n",
      " [0.99738266]\n",
      " [1.        ]]\n",
      "<class 'numpy.ndarray'> (3948, 1)\n"
     ]
    }
   ],
   "source": [
    "print('Scaled Data: \\n')\n",
    "print(scaled_training_data)\n",
    "print(type(scaled_training_data), scaled_training_data.shape)"
   ]
  },
  {
   "cell_type": "code",
   "execution_count": 41,
   "metadata": {},
   "outputs": [],
   "source": [
    "def create_dataset(dataset, time_step=1):\n",
    "    x_data, y_data = [], []\n",
    "    for i in range(time_step, len(dataset)):\n",
    "        x_data.append(dataset[i-time_step:i,0])\n",
    "        y_data.append(dataset[i,0])\n",
    "    return np.array(x_data), np.array(y_data)"
   ]
  },
  {
   "cell_type": "code",
   "execution_count": 52,
   "metadata": {},
   "outputs": [],
   "source": [
    "time_step = 10\n",
    "X_train, y_train = create_dataset(scaled_training_data, time_step)\n",
    "X_test, y_test = create_dataset(scaled_testing_data, time_step)"
   ]
  },
  {
   "cell_type": "markdown",
   "metadata": {},
   "source": [
    "###### Convert into 3D (samples, time step, features) which is required for LSTM architecture."
   ]
  },
  {
   "cell_type": "code",
   "execution_count": 53,
   "metadata": {},
   "outputs": [],
   "source": [
    "X_train = np.reshape(X_train, (X_train.shape[0],X_train.shape[1],1))\n",
    "X_test = np.reshape(X_test, (X_test.shape[0],X_test.shape[1],1))"
   ]
  },
  {
   "cell_type": "markdown",
   "metadata": {},
   "source": [
    "## Model Creation"
   ]
  },
  {
   "cell_type": "code",
   "execution_count": 54,
   "metadata": {},
   "outputs": [],
   "source": [
    "# Stacked LSTM model architecture\n",
    "model = Sequential()\n",
    "model.add(LSTM(50, return_sequences=True, input_shape=(X_train.shape[1],1)))\n",
    "model.add(LSTM(50, return_sequences=True))\n",
    "model.add(LSTM(50))\n",
    "model.add(Dense(1))"
   ]
  },
  {
   "cell_type": "code",
   "execution_count": 55,
   "metadata": {},
   "outputs": [],
   "source": [
    "# Optimizer\n",
    "model.compile(loss='mean_squared_error', optimizer='adam')"
   ]
  },
  {
   "cell_type": "code",
   "execution_count": 56,
   "metadata": {},
   "outputs": [
    {
     "name": "stdout",
     "output_type": "stream",
     "text": [
      "Model: \"sequential_1\"\n",
      "_________________________________________________________________\n",
      "Layer (type)                 Output Shape              Param #   \n",
      "=================================================================\n",
      "lstm_3 (LSTM)                (None, 10, 50)            10400     \n",
      "_________________________________________________________________\n",
      "lstm_4 (LSTM)                (None, 10, 50)            20200     \n",
      "_________________________________________________________________\n",
      "lstm_5 (LSTM)                (None, 50)                20200     \n",
      "_________________________________________________________________\n",
      "dense_1 (Dense)              (None, 1)                 51        \n",
      "=================================================================\n",
      "Total params: 50,851\n",
      "Trainable params: 50,851\n",
      "Non-trainable params: 0\n",
      "_________________________________________________________________\n"
     ]
    }
   ],
   "source": [
    "model.summary()"
   ]
  },
  {
   "cell_type": "code",
   "execution_count": 57,
   "metadata": {},
   "outputs": [
    {
     "name": "stdout",
     "output_type": "stream",
     "text": [
      "Epoch 1/100\n",
      "62/62 [==============================] - 2s 35ms/step - loss: 0.0177 - val_loss: 0.0040\n",
      "Epoch 2/100\n",
      "62/62 [==============================] - 1s 16ms/step - loss: 4.2312e-04 - val_loss: 0.0039\n",
      "Epoch 3/100\n",
      "62/62 [==============================] - 1s 16ms/step - loss: 3.7443e-04 - val_loss: 0.0039\n",
      "Epoch 4/100\n",
      "62/62 [==============================] - 1s 16ms/step - loss: 3.8476e-04 - val_loss: 0.0039\n",
      "Epoch 5/100\n",
      "62/62 [==============================] - 1s 17ms/step - loss: 3.6732e-04 - val_loss: 0.0038\n",
      "Epoch 6/100\n",
      "62/62 [==============================] - 1s 17ms/step - loss: 3.6543e-04 - val_loss: 0.0038\n",
      "Epoch 7/100\n",
      "62/62 [==============================] - 1s 17ms/step - loss: 3.6897e-04 - val_loss: 0.0037\n",
      "Epoch 8/100\n",
      "62/62 [==============================] - 1s 16ms/step - loss: 3.5952e-04 - val_loss: 0.0037\n",
      "Epoch 9/100\n",
      "62/62 [==============================] - 1s 16ms/step - loss: 3.6029e-04 - val_loss: 0.0036\n",
      "Epoch 10/100\n",
      "62/62 [==============================] - 1s 17ms/step - loss: 3.6772e-04 - val_loss: 0.0036\n",
      "Epoch 11/100\n",
      "62/62 [==============================] - 1s 17ms/step - loss: 3.6450e-04 - val_loss: 0.0038\n",
      "Epoch 12/100\n",
      "62/62 [==============================] - 1s 19ms/step - loss: 3.8731e-04 - val_loss: 0.0035\n",
      "Epoch 13/100\n",
      "62/62 [==============================] - 1s 22ms/step - loss: 3.7060e-04 - val_loss: 0.0034\n",
      "Epoch 14/100\n",
      "62/62 [==============================] - 1s 24ms/step - loss: 3.3716e-04 - val_loss: 0.0034\n",
      "Epoch 15/100\n",
      "62/62 [==============================] - 1s 23ms/step - loss: 3.3766e-04 - val_loss: 0.0035\n",
      "Epoch 16/100\n",
      "62/62 [==============================] - 1s 21ms/step - loss: 3.4441e-04 - val_loss: 0.0032\n",
      "Epoch 17/100\n",
      "62/62 [==============================] - 1s 20ms/step - loss: 3.7745e-04 - val_loss: 0.0032\n",
      "Epoch 18/100\n",
      "62/62 [==============================] - 1s 19ms/step - loss: 3.1341e-04 - val_loss: 0.0031\n",
      "Epoch 19/100\n",
      "62/62 [==============================] - 1s 18ms/step - loss: 3.0763e-04 - val_loss: 0.0030\n",
      "Epoch 20/100\n",
      "62/62 [==============================] - 1s 18ms/step - loss: 3.0291e-04 - val_loss: 0.0028\n",
      "Epoch 21/100\n",
      "62/62 [==============================] - 1s 21ms/step - loss: 2.9815e-04 - val_loss: 0.0029\n",
      "Epoch 22/100\n",
      "62/62 [==============================] - 1s 20ms/step - loss: 3.2742e-04 - val_loss: 0.0027\n",
      "Epoch 23/100\n",
      "62/62 [==============================] - 1s 22ms/step - loss: 2.8906e-04 - val_loss: 0.0027\n",
      "Epoch 24/100\n",
      "62/62 [==============================] - 1s 22ms/step - loss: 2.8268e-04 - val_loss: 0.0028\n",
      "Epoch 25/100\n",
      "62/62 [==============================] - 1s 21ms/step - loss: 2.3880e-04 - val_loss: 0.0023\n",
      "Epoch 26/100\n",
      "62/62 [==============================] - 1s 18ms/step - loss: 2.7807e-04 - val_loss: 0.0024\n",
      "Epoch 27/100\n",
      "62/62 [==============================] - 1s 19ms/step - loss: 2.2004e-04 - val_loss: 0.0023\n",
      "Epoch 28/100\n",
      "62/62 [==============================] - 1s 18ms/step - loss: 2.6013e-04 - val_loss: 0.0021\n",
      "Epoch 29/100\n",
      "62/62 [==============================] - 1s 18ms/step - loss: 2.2733e-04 - val_loss: 0.0019\n",
      "Epoch 30/100\n",
      "62/62 [==============================] - 1s 19ms/step - loss: 2.0345e-04 - val_loss: 0.0018\n",
      "Epoch 31/100\n",
      "62/62 [==============================] - 1s 18ms/step - loss: 1.9656e-04 - val_loss: 0.0021\n",
      "Epoch 32/100\n",
      "62/62 [==============================] - 1s 17ms/step - loss: 1.9622e-04 - val_loss: 0.0017\n",
      "Epoch 33/100\n",
      "62/62 [==============================] - 1s 18ms/step - loss: 1.9275e-04 - val_loss: 0.0018\n",
      "Epoch 34/100\n",
      "62/62 [==============================] - 1s 17ms/step - loss: 1.7746e-04 - val_loss: 0.0017\n",
      "Epoch 35/100\n",
      "62/62 [==============================] - 1s 18ms/step - loss: 1.7711e-04 - val_loss: 0.0017\n",
      "Epoch 36/100\n",
      "62/62 [==============================] - 1s 17ms/step - loss: 1.6246e-04 - val_loss: 0.0017\n",
      "Epoch 37/100\n",
      "62/62 [==============================] - 1s 17ms/step - loss: 1.7902e-04 - val_loss: 0.0016\n",
      "Epoch 38/100\n",
      "62/62 [==============================] - 1s 17ms/step - loss: 1.5654e-04 - val_loss: 0.0016\n",
      "Epoch 39/100\n",
      "62/62 [==============================] - 1s 16ms/step - loss: 1.4602e-04 - val_loss: 0.0015\n",
      "Epoch 40/100\n",
      "62/62 [==============================] - 1s 17ms/step - loss: 1.5788e-04 - val_loss: 0.0014\n",
      "Epoch 41/100\n",
      "62/62 [==============================] - 1s 17ms/step - loss: 1.4831e-04 - val_loss: 0.0014\n",
      "Epoch 42/100\n",
      "62/62 [==============================] - 1s 17ms/step - loss: 1.6180e-04 - val_loss: 0.0016\n",
      "Epoch 43/100\n",
      "62/62 [==============================] - 1s 20ms/step - loss: 1.4697e-04 - val_loss: 0.0014\n",
      "Epoch 44/100\n",
      "62/62 [==============================] - 1s 18ms/step - loss: 1.3750e-04 - val_loss: 0.0013\n",
      "Epoch 45/100\n",
      "62/62 [==============================] - 1s 19ms/step - loss: 1.7398e-04 - val_loss: 0.0014\n",
      "Epoch 46/100\n",
      "62/62 [==============================] - 1s 18ms/step - loss: 1.4866e-04 - val_loss: 0.0013\n",
      "Epoch 47/100\n",
      "62/62 [==============================] - 1s 19ms/step - loss: 1.1938e-04 - val_loss: 0.0012\n",
      "Epoch 48/100\n",
      "62/62 [==============================] - 1s 18ms/step - loss: 1.2024e-04 - val_loss: 0.0012\n",
      "Epoch 49/100\n",
      "62/62 [==============================] - 1s 17ms/step - loss: 1.2462e-04 - val_loss: 0.0013\n",
      "Epoch 50/100\n",
      "62/62 [==============================] - 1s 18ms/step - loss: 1.2304e-04 - val_loss: 0.0012\n",
      "Epoch 51/100\n",
      "62/62 [==============================] - 1s 18ms/step - loss: 1.1282e-04 - val_loss: 0.0011\n",
      "Epoch 52/100\n",
      "62/62 [==============================] - 1s 19ms/step - loss: 1.4980e-04 - val_loss: 0.0012\n",
      "Epoch 53/100\n",
      "62/62 [==============================] - 1s 17ms/step - loss: 1.3634e-04 - val_loss: 0.0011\n",
      "Epoch 54/100\n",
      "62/62 [==============================] - 1s 17ms/step - loss: 1.1384e-04 - val_loss: 0.0011\n",
      "Epoch 55/100\n",
      "62/62 [==============================] - 1s 18ms/step - loss: 1.1254e-04 - val_loss: 0.0010\n",
      "Epoch 56/100\n",
      "62/62 [==============================] - 1s 17ms/step - loss: 1.0344e-04 - val_loss: 0.0011\n",
      "Epoch 57/100\n",
      "62/62 [==============================] - 1s 18ms/step - loss: 1.1537e-04 - val_loss: 9.8292e-04\n",
      "Epoch 58/100\n",
      "62/62 [==============================] - 1s 19ms/step - loss: 9.9628e-05 - val_loss: 9.7716e-04\n",
      "Epoch 59/100\n",
      "62/62 [==============================] - 1s 18ms/step - loss: 9.6401e-05 - val_loss: 9.4514e-04\n",
      "Epoch 60/100\n",
      "62/62 [==============================] - 1s 19ms/step - loss: 1.0269e-04 - val_loss: 9.0726e-04\n",
      "Epoch 61/100\n",
      "62/62 [==============================] - 1s 19ms/step - loss: 9.2804e-05 - val_loss: 8.7787e-04\n",
      "Epoch 62/100\n",
      "62/62 [==============================] - 1s 19ms/step - loss: 8.3320e-05 - val_loss: 8.6159e-04\n",
      "Epoch 63/100\n",
      "62/62 [==============================] - 1s 18ms/step - loss: 9.7526e-05 - val_loss: 8.8174e-04\n",
      "Epoch 64/100\n",
      "62/62 [==============================] - 1s 18ms/step - loss: 9.4153e-05 - val_loss: 8.6847e-04\n",
      "Epoch 65/100\n",
      "62/62 [==============================] - 1s 18ms/step - loss: 7.9593e-05 - val_loss: 8.0185e-04\n",
      "Epoch 66/100\n",
      "62/62 [==============================] - 1s 19ms/step - loss: 8.5687e-05 - val_loss: 7.8846e-04\n",
      "Epoch 67/100\n",
      "62/62 [==============================] - 1s 18ms/step - loss: 8.1692e-05 - val_loss: 7.6710e-04\n",
      "Epoch 68/100\n",
      "62/62 [==============================] - 1s 18ms/step - loss: 7.9764e-05 - val_loss: 7.3209e-04\n",
      "Epoch 69/100\n",
      "62/62 [==============================] - 1s 18ms/step - loss: 8.2915e-05 - val_loss: 7.2992e-04\n",
      "Epoch 70/100\n",
      "62/62 [==============================] - 1s 18ms/step - loss: 7.8348e-05 - val_loss: 6.9993e-04\n",
      "Epoch 71/100\n",
      "62/62 [==============================] - 1s 18ms/step - loss: 7.2514e-05 - val_loss: 8.0593e-04\n",
      "Epoch 72/100\n",
      "62/62 [==============================] - 1s 19ms/step - loss: 1.2725e-04 - val_loss: 6.9880e-04\n",
      "Epoch 73/100\n",
      "62/62 [==============================] - 1s 19ms/step - loss: 8.1067e-05 - val_loss: 6.7221e-04\n",
      "Epoch 74/100\n",
      "62/62 [==============================] - 1s 18ms/step - loss: 8.6637e-05 - val_loss: 6.6049e-04\n",
      "Epoch 75/100\n",
      "62/62 [==============================] - 1s 18ms/step - loss: 7.0153e-05 - val_loss: 7.5527e-04\n",
      "Epoch 76/100\n",
      "62/62 [==============================] - 1s 18ms/step - loss: 7.5226e-05 - val_loss: 6.3872e-04\n",
      "Epoch 77/100\n",
      "62/62 [==============================] - 1s 19ms/step - loss: 7.5798e-05 - val_loss: 6.6361e-04\n",
      "Epoch 78/100\n"
     ]
    },
    {
     "name": "stdout",
     "output_type": "stream",
     "text": [
      "62/62 [==============================] - 1s 18ms/step - loss: 8.6880e-05 - val_loss: 6.2373e-04\n",
      "Epoch 79/100\n",
      "62/62 [==============================] - 1s 18ms/step - loss: 6.1952e-05 - val_loss: 6.0826e-04\n",
      "Epoch 80/100\n",
      "62/62 [==============================] - 1s 18ms/step - loss: 6.2488e-05 - val_loss: 6.2343e-04\n",
      "Epoch 81/100\n",
      "62/62 [==============================] - 1s 18ms/step - loss: 6.0002e-05 - val_loss: 6.0004e-04\n",
      "Epoch 82/100\n",
      "62/62 [==============================] - 1s 18ms/step - loss: 8.9744e-05 - val_loss: 5.9290e-04\n",
      "Epoch 83/100\n",
      "62/62 [==============================] - 1s 18ms/step - loss: 7.6826e-05 - val_loss: 5.9835e-04\n",
      "Epoch 84/100\n",
      "62/62 [==============================] - 1s 17ms/step - loss: 7.2411e-05 - val_loss: 5.9902e-04\n",
      "Epoch 85/100\n",
      "62/62 [==============================] - 1s 17ms/step - loss: 5.8448e-05 - val_loss: 5.7886e-04\n",
      "Epoch 86/100\n",
      "62/62 [==============================] - 1s 17ms/step - loss: 6.8728e-05 - val_loss: 6.0445e-04\n",
      "Epoch 87/100\n",
      "62/62 [==============================] - 1s 16ms/step - loss: 6.2051e-05 - val_loss: 5.8577e-04\n",
      "Epoch 88/100\n",
      "62/62 [==============================] - 1s 17ms/step - loss: 6.0597e-05 - val_loss: 5.9294e-04\n",
      "Epoch 89/100\n",
      "62/62 [==============================] - 1s 17ms/step - loss: 6.5732e-05 - val_loss: 5.6855e-04\n",
      "Epoch 90/100\n",
      "62/62 [==============================] - 1s 17ms/step - loss: 6.2053e-05 - val_loss: 6.1233e-04\n",
      "Epoch 91/100\n",
      "62/62 [==============================] - 1s 18ms/step - loss: 6.3390e-05 - val_loss: 5.7286e-04\n",
      "Epoch 92/100\n",
      "62/62 [==============================] - 1s 18ms/step - loss: 6.4248e-05 - val_loss: 5.8952e-04\n",
      "Epoch 93/100\n",
      "62/62 [==============================] - 1s 17ms/step - loss: 6.1710e-05 - val_loss: 5.6847e-04\n",
      "Epoch 94/100\n",
      "62/62 [==============================] - 1s 17ms/step - loss: 5.7241e-05 - val_loss: 5.5834e-04\n",
      "Epoch 95/100\n",
      "62/62 [==============================] - 1s 18ms/step - loss: 5.6418e-05 - val_loss: 5.6414e-04\n",
      "Epoch 96/100\n",
      "62/62 [==============================] - 1s 18ms/step - loss: 5.4420e-05 - val_loss: 5.8911e-04\n",
      "Epoch 97/100\n",
      "62/62 [==============================] - 1s 19ms/step - loss: 6.3208e-05 - val_loss: 5.5415e-04\n",
      "Epoch 98/100\n",
      "62/62 [==============================] - 1s 18ms/step - loss: 7.5168e-05 - val_loss: 5.5508e-04\n",
      "Epoch 99/100\n",
      "62/62 [==============================] - 1s 18ms/step - loss: 6.9172e-05 - val_loss: 5.6710e-04\n",
      "Epoch 100/100\n",
      "62/62 [==============================] - 1s 18ms/step - loss: 5.9054e-05 - val_loss: 5.5254e-04\n"
     ]
    },
    {
     "data": {
      "text/plain": [
       "<tensorflow.python.keras.callbacks.History at 0x13a06a490>"
      ]
     },
     "execution_count": 57,
     "metadata": {},
     "output_type": "execute_result"
    }
   ],
   "source": [
    "model.fit(X_train, y_train, validation_data=(X_test, y_test), epochs=100, batch_size=64, verbose=1)"
   ]
  },
  {
   "cell_type": "code",
   "execution_count": 58,
   "metadata": {},
   "outputs": [],
   "source": [
    "train_predict = model.predict(X_train)\n",
    "test_predict = model.predict(X_test)"
   ]
  },
  {
   "cell_type": "code",
   "execution_count": 59,
   "metadata": {},
   "outputs": [],
   "source": [
    "train_predict = min_max_scaler.inverse_transform(train_predict)\n",
    "test_predict = min_max_scaler.inverse_transform(test_predict)"
   ]
  },
  {
   "cell_type": "code",
   "execution_count": 60,
   "metadata": {},
   "outputs": [
    {
     "data": {
      "text/plain": [
       "1318.9560843542995"
      ]
     },
     "execution_count": 60,
     "metadata": {},
     "output_type": "execute_result"
    }
   ],
   "source": [
    "# Calculate RMSE performance merices\n",
    "import math\n",
    "from sklearn.metrics import mean_squared_error\n",
    "math.sqrt(mean_squared_error(y_train, train_predict))"
   ]
  },
  {
   "cell_type": "code",
   "execution_count": 61,
   "metadata": {},
   "outputs": [
    {
     "data": {
      "text/plain": [
       "1393.0167145100284"
      ]
     },
     "execution_count": 61,
     "metadata": {},
     "output_type": "execute_result"
    }
   ],
   "source": [
    "# Test Data RMSE\n",
    "math.sqrt(mean_squared_error(y_test, test_predict))"
   ]
  },
  {
   "cell_type": "code",
   "execution_count": 70,
   "metadata": {},
   "outputs": [],
   "source": [
    "df = dataset.reset_index()['close']\n",
    "scaled_df = min_max_scaler.fit_transform(np.array(df).reshape(-1,1))"
   ]
  },
  {
   "cell_type": "code",
   "execution_count": 80,
   "metadata": {},
   "outputs": [
    {
     "ename": "ValueError",
     "evalue": "could not broadcast input array from shape (977,1) into shape (985,1)",
     "output_type": "error",
     "traceback": [
      "\u001b[0;31m---------------------------------------------------------------------------\u001b[0m",
      "\u001b[0;31mValueError\u001b[0m                                Traceback (most recent call last)",
      "\u001b[0;32m<ipython-input-80-4161060f6a4f>\u001b[0m in \u001b[0;36m<module>\u001b[0;34m\u001b[0m\n\u001b[1;32m      6\u001b[0m \u001b[0mtestPredictPlot\u001b[0m \u001b[0;34m=\u001b[0m \u001b[0mnp\u001b[0m\u001b[0;34m.\u001b[0m\u001b[0mempty_like\u001b[0m\u001b[0;34m(\u001b[0m\u001b[0mscaled_df\u001b[0m\u001b[0;34m)\u001b[0m\u001b[0;34m\u001b[0m\u001b[0;34m\u001b[0m\u001b[0m\n\u001b[1;32m      7\u001b[0m \u001b[0mtestPredictPlot\u001b[0m\u001b[0;34m[\u001b[0m\u001b[0;34m:\u001b[0m\u001b[0;34m,\u001b[0m \u001b[0;34m:\u001b[0m\u001b[0;34m]\u001b[0m \u001b[0;34m=\u001b[0m \u001b[0mnp\u001b[0m\u001b[0;34m.\u001b[0m\u001b[0mnan\u001b[0m\u001b[0;34m\u001b[0m\u001b[0;34m\u001b[0m\u001b[0m\n\u001b[0;32m----> 8\u001b[0;31m \u001b[0mtestPredictPlot\u001b[0m\u001b[0;34m[\u001b[0m\u001b[0mlen\u001b[0m\u001b[0;34m(\u001b[0m\u001b[0mtrain_predict\u001b[0m\u001b[0;34m)\u001b[0m\u001b[0;34m+\u001b[0m\u001b[0;34m(\u001b[0m\u001b[0mlook_back\u001b[0m\u001b[0;34m)\u001b[0m\u001b[0;34m+\u001b[0m\u001b[0;36m1\u001b[0m\u001b[0;34m:\u001b[0m\u001b[0mlen\u001b[0m\u001b[0;34m(\u001b[0m\u001b[0mscaled_df\u001b[0m\u001b[0;34m)\u001b[0m\u001b[0;34m-\u001b[0m\u001b[0;36m1\u001b[0m\u001b[0;34m,\u001b[0m \u001b[0;34m:\u001b[0m\u001b[0;34m]\u001b[0m \u001b[0;34m=\u001b[0m \u001b[0mtest_predict\u001b[0m\u001b[0;34m\u001b[0m\u001b[0;34m\u001b[0m\u001b[0m\n\u001b[0m\u001b[1;32m      9\u001b[0m \u001b[0;31m# plot baseline and predictions\u001b[0m\u001b[0;34m\u001b[0m\u001b[0;34m\u001b[0m\u001b[0;34m\u001b[0m\u001b[0m\n\u001b[1;32m     10\u001b[0m \u001b[0mplt\u001b[0m\u001b[0;34m.\u001b[0m\u001b[0mplot\u001b[0m\u001b[0;34m(\u001b[0m\u001b[0mmin_max_scaler\u001b[0m\u001b[0;34m.\u001b[0m\u001b[0minverse_transform\u001b[0m\u001b[0;34m(\u001b[0m\u001b[0mscaled_df\u001b[0m\u001b[0;34m)\u001b[0m\u001b[0;34m)\u001b[0m\u001b[0;34m\u001b[0m\u001b[0;34m\u001b[0m\u001b[0m\n",
      "\u001b[0;31mValueError\u001b[0m: could not broadcast input array from shape (977,1) into shape (985,1)"
     ]
    }
   ],
   "source": [
    "# look_back = time_step\n",
    "# trainPredictPlot = np.empty_like(scaled_df)\n",
    "# trainPredictPlot[:, :] = np.nan\n",
    "# trainPredictPlot[look_back:len(train_predict)+look_back, :] = train_predict\n",
    "# # shift test predictions for plotting\n",
    "# testPredictPlot = np.empty_like(scaled_df)\n",
    "# testPredictPlot[:, :] = np.nan\n",
    "# testPredictPlot[len(train_predict)+(look_back)+1:len(scaled_df)-1, :] = test_predict\n",
    "# plot baseline and predictions\n",
    "# plt.plot(min_max_scaler.inverse_transform(scaled_df))\n",
    "# plt.plot(trainPredictPlot)\n",
    "# plt.plot(testPredictPlot)\n",
    "# plt.show()"
   ]
  },
  {
   "cell_type": "code",
   "execution_count": null,
   "metadata": {},
   "outputs": [],
   "source": []
  }
 ],
 "metadata": {
  "kernelspec": {
   "display_name": "Python 3.7.7 64-bit ('tensvenv': conda)",
   "language": "python",
   "name": "python37764bittensvenvconda52fd1831b3f141099a2e1e2add9df444"
  },
  "language_info": {
   "codemirror_mode": {
    "name": "ipython",
    "version": 3
   },
   "file_extension": ".py",
   "mimetype": "text/x-python",
   "name": "python",
   "nbconvert_exporter": "python",
   "pygments_lexer": "ipython3",
   "version": "3.7.7"
  }
 },
 "nbformat": 4,
 "nbformat_minor": 4
}
